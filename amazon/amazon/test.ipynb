{
 "cells": [
  {
   "cell_type": "code",
   "execution_count": 27,
   "metadata": {},
   "outputs": [],
   "source": [
    "from world import *"
   ]
  },
  {
   "cell_type": "code",
   "execution_count": 67,
   "metadata": {},
   "outputs": [],
   "source": [
    "socket = world_socket(\"vcm-32083.vm.duke.edu\", 23456)"
   ]
  },
  {
   "cell_type": "code",
   "execution_count": 68,
   "metadata": {},
   "outputs": [
    {
     "name": "stdout",
     "output_type": "stream",
     "text": [
      "worldid: 8\n",
      "result: \"connected!\"\n",
      "\n"
     ]
    }
   ],
   "source": [
    "wh0 = create_warehouse(0, 0, 0)\n",
    "msg = connect_new(socket, [wh0])\n",
    "print(msg)"
   ]
  },
  {
   "cell_type": "code",
   "execution_count": 69,
   "metadata": {},
   "outputs": [],
   "source": [
    "T800 = create_product(0, \"T-900\", 20)\n",
    "T800_purchase = create_purchase(0, [T800], 0)\n",
    "msg = world_amazon_pb2.ACommands()\n",
    "msg.buy.append(T800_purchase)\n",
    "msg.disconnect = False\n",
    "retmsg = send_message(socket, msg)"
   ]
  },
  {
   "cell_type": "code",
   "execution_count": 70,
   "metadata": {},
   "outputs": [
    {
     "name": "stdout",
     "output_type": "stream",
     "text": [
      "arrived {\n",
      "  whnum: 0\n",
      "  things {\n",
      "    id: 0\n",
      "    description: \"T-900\"\n",
      "    count: 20\n",
      "  }\n",
      "  seqnum: 10\n",
      "}\n",
      "acks: 0\n",
      "\n"
     ]
    }
   ],
   "source": [
    "\n",
    "aresponse_msg = world_amazon_pb2.AResponses()\n",
    "aresponse_msg.ParseFromString(retmsg)\n",
    "print(aresponse_msg)\n"
   ]
  },
  {
   "cell_type": "code",
   "execution_count": 71,
   "metadata": {},
   "outputs": [],
   "source": [
    "send_ack(socket, [0])"
   ]
  },
  {
   "cell_type": "code",
   "execution_count": 76,
   "metadata": {},
   "outputs": [
    {
     "name": "stdout",
     "output_type": "stream",
     "text": [
      "acks: 2\n",
      "\n"
     ]
    }
   ],
   "source": [
    "T800 = create_product(0, \"T-900\", 20)\n",
    "T800_pack = create_pack(0, [T800], 0, 2)\n",
    "msg = world_amazon_pb2.ACommands()\n",
    "msg.topack.append(T800_pack)\n",
    "msg.disconnect = False\n",
    "retmsg = send_message(socket, msg)\n",
    "\n",
    "aresponse_msg = world_amazon_pb2.AResponses()\n",
    "aresponse_msg.ParseFromString(retmsg)\n",
    "print(aresponse_msg)"
   ]
  },
  {
   "cell_type": "code",
   "execution_count": 78,
   "metadata": {},
   "outputs": [],
   "source": [
    "send_ack(socket, [2])"
   ]
  },
  {
   "cell_type": "code",
   "execution_count": 1,
   "metadata": {},
   "outputs": [],
   "source": [
    "\n",
    "import sqlalchemy\n",
    "\n",
    "from datetime import datetime\n",
    "\n",
    "from sqlalchemy import Table, create_engine, MetaData, text, Column, Integer, String, Float, Sequence, ForeignKey, inspect\n",
    "from sqlalchemy import Enum, Float, PrimaryKeyConstraint, DateTime, func, UniqueConstraint\n",
    "from sqlalchemy.engine import URL\n",
    "from sqlalchemy.orm import relationship, declarative_base, subqueryload, sessionmaker\n",
    "\n",
    "engine = create_engine(URL.create(username = 'amazon',\n",
    "                                  password = 'AlchOfRevo12A2',\n",
    "                                  database = 'amazon',\n",
    "                                  drivername = 'postgresql'))\n",
    "\n",
    "Base = declarative_base()\n",
    "\n",
    "class product(Base):\n",
    "    __tablename__ = \"product\"\n",
    "    \n",
    "    id = Column(Integer, Sequence(\"product_id_seq\", start=1,increment=1), primary_key = True)\n",
    "    descrption = Column(String)\n",
    "    \n",
    "class warehouse(Base):\n",
    "    __tablename__ = \"warehouse\"\n",
    "\n",
    "    id = Column(Integer, Sequence(\"warehouse_id_seq\", start=1,increment=1), primary_key = True)\n",
    "    x = Column(Integer)\n",
    "    y = Column(Integer)\n",
    "\n",
    "class inventory(Base):\n",
    "    __tablename__ = \"inventory\"\n",
    "\n",
    "    id = Column(Integer, Sequence(\"inventory_id_seq\", start=1,increment=1), primary_key = True)\n",
    "    pid = Column(Integer, ForeignKey('product.id'))\n",
    "    wid = Column(Integer, ForeignKey('warehouse.id'))\n",
    "    amount = Column(Integer)\n",
    "\n",
    "    isProduct = relationship(\"product\", backref=\"inventory\")\n",
    "    storedIn = relationship(\"warehouse\", backref=\"inventory\")\n",
    "\n",
    "    __table_args__ = (UniqueConstraint(pid, wid),)\n",
    "\n",
    "class order(Base):\n",
    "    __tablename__ = \"order\"\n",
    "\n",
    "    id = Column(Integer, Sequence(\"order_id_seq\", start=1,increment=1), primary_key = True)\n",
    "    pid = Column(Integer, ForeignKey('product.id'))\n",
    "    wid = Column(Integer, ForeignKey('warehouse.id'))\n",
    "    tid = Column(Integer)\n",
    "    uid = Column(Integer)\n",
    "    status = Column(Enum(\"created\", \"packed\", \"shipped\", \"delivered\", \"canceled\", name='status', create_type=False), nullable=False)\n",
    "    \n",
    "    isProduct = relationship(\"product\", backref=\"order\")\n",
    "    packedFrom = relationship(\"warehouse\", backref=\"order\")\n",
    "\n",
    "Base.metadata.drop_all(engine)\n",
    "Base.metadata.create_all(engine, checkfirst=True)"
   ]
  },
  {
   "cell_type": "code",
   "execution_count": 10,
   "metadata": {},
   "outputs": [
    {
     "ename": "ImportError",
     "evalue": "attempted relative import with no known parent package",
     "output_type": "error",
     "traceback": [
      "\u001b[0;31m---------------------------------------------------------------------------\u001b[0m",
      "\u001b[0;31mImportError\u001b[0m                               Traceback (most recent call last)",
      "Cell \u001b[0;32mIn[10], line 1\u001b[0m\n\u001b[0;32m----> 1\u001b[0m \u001b[39mimport\u001b[39;00m \u001b[39mdb\u001b[39;00m\n\u001b[1;32m      2\u001b[0m init_db()\n",
      "File \u001b[0;32m~/ece568/erss-project-zt40-jh622/amazon/amazon/db.py:10\u001b[0m\n\u001b[1;32m      8\u001b[0m \u001b[39mfrom\u001b[39;00m \u001b[39msqlalchemy\u001b[39;00m\u001b[39m.\u001b[39;00m\u001b[39mengine\u001b[39;00m \u001b[39mimport\u001b[39;00m URL\n\u001b[1;32m      9\u001b[0m \u001b[39mfrom\u001b[39;00m \u001b[39msqlalchemy\u001b[39;00m\u001b[39m.\u001b[39;00m\u001b[39morm\u001b[39;00m \u001b[39mimport\u001b[39;00m relationship, declarative_base, subqueryload, sessionmaker\n\u001b[0;32m---> 10\u001b[0m \u001b[39mfrom\u001b[39;00m \u001b[39m.\u001b[39;00m \u001b[39mimport\u001b[39;00m world\n\u001b[1;32m     12\u001b[0m engine \u001b[39m=\u001b[39m create_engine(URL\u001b[39m.\u001b[39mcreate(username \u001b[39m=\u001b[39m \u001b[39m'\u001b[39m\u001b[39mamazon\u001b[39m\u001b[39m'\u001b[39m,\n\u001b[1;32m     13\u001b[0m                                   password \u001b[39m=\u001b[39m \u001b[39m'\u001b[39m\u001b[39mAlchOfRevo12A2\u001b[39m\u001b[39m'\u001b[39m,\n\u001b[1;32m     14\u001b[0m                                   database \u001b[39m=\u001b[39m \u001b[39m'\u001b[39m\u001b[39mamazon\u001b[39m\u001b[39m'\u001b[39m,\n\u001b[1;32m     15\u001b[0m                                   drivername \u001b[39m=\u001b[39m \u001b[39m'\u001b[39m\u001b[39mpostgresql\u001b[39m\u001b[39m'\u001b[39m))\n\u001b[1;32m     17\u001b[0m Base \u001b[39m=\u001b[39m declarative_base()\n",
      "\u001b[0;31mImportError\u001b[0m: attempted relative import with no known parent package"
     ]
    }
   ],
   "source": [
    "\n",
    "import db\n",
    "init_db()\n"
   ]
  },
  {
   "cell_type": "code",
   "execution_count": 2,
   "metadata": {},
   "outputs": [],
   "source": [
    "db_add_product(\"T800\")\n",
    "db_add_product(\"ppsh41\")"
   ]
  },
  {
   "cell_type": "code",
   "execution_count": 3,
   "metadata": {},
   "outputs": [
    {
     "name": "stdout",
     "output_type": "stream",
     "text": [
      "T800\n",
      "ppsh41\n"
     ]
    }
   ],
   "source": [
    "products = query_products()\n",
    "for p in products:\n",
    "\n",
    "    print( p.descrption)"
   ]
  },
  {
   "cell_type": "code",
   "execution_count": 4,
   "metadata": {},
   "outputs": [
    {
     "data": {
      "text/plain": [
       "worldid: 4\n",
       "result: \"connected!\""
      ]
     },
     "execution_count": 4,
     "metadata": {},
     "output_type": "execute_result"
    }
   ],
   "source": [
    "socket = world_socket(\"vcm-32083.vm.duke.edu\", 23456)\n",
    "warehouse0 = create_warehouse(0, 0, 0)\n",
    "add_warehouse(0, 0, 0)\n",
    "connect_new(socket, [warehouse0])"
   ]
  },
  {
   "cell_type": "code",
   "execution_count": 5,
   "metadata": {},
   "outputs": [
    {
     "name": "stdout",
     "output_type": "stream",
     "text": [
      "T800\n",
      "arrived {\n",
      "  whnum: 0\n",
      "  things {\n",
      "    id: 1\n",
      "    description: \"T800\"\n",
      "    count: 500\n",
      "  }\n",
      "  seqnum: 5\n",
      "}\n",
      "acks: 0\n",
      "\n",
      "ppsh41\n",
      "arrived {\n",
      "  whnum: 0\n",
      "  things {\n",
      "    id: 2\n",
      "    description: \"ppsh41\"\n",
      "    count: 500\n",
      "  }\n",
      "  seqnum: 6\n",
      "}\n",
      "acks: 1\n",
      "\n"
     ]
    }
   ],
   "source": [
    "db_add_inventory(\"T800\", 0, 500, socket)\n",
    "db_add_inventory(\"ppsh41\", 0, 500, socket)"
   ]
  },
  {
   "cell_type": "code",
   "execution_count": 7,
   "metadata": {},
   "outputs": [
    {
     "name": "stdout",
     "output_type": "stream",
     "text": [
      "T800 0 0 0 200\n",
      "ppsh41 0 0 0 200\n"
     ]
    }
   ],
   "source": [
    "inv = query_inventory()\n",
    "for p in inv:\n",
    "    print(p.product.descrption, p.warehouse.wid, p.warehouse.x, p.warehouse.y, p.inventory.amount)\n"
   ]
  },
  {
   "cell_type": "code",
   "execution_count": null,
   "metadata": {},
   "outputs": [],
   "source": []
  }
 ],
 "metadata": {
  "kernelspec": {
   "display_name": "Python 3",
   "language": "python",
   "name": "python3"
  },
  "language_info": {
   "codemirror_mode": {
    "name": "ipython",
    "version": 3
   },
   "file_extension": ".py",
   "mimetype": "text/x-python",
   "name": "python",
   "nbconvert_exporter": "python",
   "pygments_lexer": "ipython3",
   "version": "3.10.6"
  },
  "orig_nbformat": 4
 },
 "nbformat": 4,
 "nbformat_minor": 2
}
